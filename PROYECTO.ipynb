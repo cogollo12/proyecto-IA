{
 "cells": [
  {
   "cell_type": "code",
   "execution_count": 3,
   "metadata": {},
   "outputs": [],
   "source": [
    "import pandas as pd\n",
    "import numpy as np\n",
    "\n",
    "import seaborn as sns\n",
    "#seaborn tambien para graficar\n",
    "\n",
    "#graficar\n",
    "import matplotlib.pyplot as plt\n",
    "\n",
    "import matplotlib.ticker as ticker\n",
    "\n",
    "\n",
    "#sistema operativo\n",
    "import os\n",
    "\n",
    "#leer archivos de web\n",
    "import urllib"
   ]
  },
  {
   "cell_type": "code",
   "execution_count": 4,
   "metadata": {},
   "outputs": [
    {
     "data": {
      "application/vnd.jupyter.widget-view+json": {
       "model_id": "e1e21ea560c142dfb3a784eaaaeacfd5",
       "version_major": 2,
       "version_minor": 0
      },
      "text/plain": [
       "IntSlider(value=0)"
      ]
     },
     "execution_count": 4,
     "metadata": {},
     "output_type": "execute_result"
    }
   ],
   "source": [
    "import ipywidgets as widgets\n",
    "widgets.IntSlider()\n"
   ]
  },
  {
   "cell_type": "code",
   "execution_count": null,
   "metadata": {},
   "outputs": [],
   "source": [
    "# Importación del módulo urllib para realizar operaciones con URLs\n",
    "import urllib.request\n",
    "\n",
    "# Definición de la URL del archivo de texto que se encuentra en un repositorio de GitHub\n",
    "urlvariables = \"https://raw.githubusercontent.com/adiacla/bigdata/master/variable.txt\"\n",
    "\n",
    "# Apertura de la URL utilizando urllib, que permite leer el contenido del archivo en la URL\n",
    "variables = urllib.request.urlopen(urlvariables)\n",
    "\n",
    "# Iteración sobre cada línea en el archivo abierto\n",
    "for linea in variables:\n",
    "    # Decodificación de cada línea desde bytes a una cadena de texto utilizando UTF-8\n",
    "    print(linea.decode(\"utf-8\"))"
   ]
  },
  {
   "cell_type": "code",
   "execution_count": null,
   "metadata": {},
   "outputs": [],
   "source": [
    "# Importación de la biblioteca pandas, generalmente importada como pd por convención\n",
    "import pandas as pd\n",
    "\n",
    "# URL del archivo CSV que se encuentra en un repositorio de GitHub\n",
    "url = \"https://raw.githubusercontent.com/adiacla/bigdata/master/casasOrg.csv\"\n",
    "\n",
    "# Lectura del archivo CSV desde la URL utilizando pandas\n",
    "# El parámetro sep=\";\" especifica que el separador de columnas en el archivo CSV es un punto y coma\n",
    "df = pd.read_csv(url, sep=\";\")\n",
    "\n",
    "# Mostrar el contenido del DataFrame df\n",
    "# En un entorno interactivo como Jupyter Notebook, esta línea muestra las primeras y últimas filas del DataFrame\n",
    "df"
   ]
  }
 ],
 "metadata": {
  "kernelspec": {
   "display_name": ".venv",
   "language": "python",
   "name": "python3"
  },
  "language_info": {
   "codemirror_mode": {
    "name": "ipython",
    "version": 3
   },
   "file_extension": ".py",
   "mimetype": "text/x-python",
   "name": "python",
   "nbconvert_exporter": "python",
   "pygments_lexer": "ipython3",
   "version": "3.12.6"
  }
 },
 "nbformat": 4,
 "nbformat_minor": 2
}
